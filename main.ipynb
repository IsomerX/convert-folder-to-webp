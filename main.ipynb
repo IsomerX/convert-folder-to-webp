{
 "cells": [
  {
   "cell_type": "code",
   "execution_count": 27,
   "metadata": {},
   "outputs": [],
   "source": [
    "from pathlib import Path\n",
    "from PIL import Image\n",
    "import os\n",
    "import shutil"
   ]
  },
  {
   "cell_type": "code",
   "execution_count": 23,
   "metadata": {},
   "outputs": [],
   "source": [
    "input_dir = './images'\n",
    "output_dir = './output'"
   ]
  },
  {
   "cell_type": "code",
   "execution_count": 22,
   "metadata": {},
   "outputs": [],
   "source": [
    "def convert_to_webp(input_path, output_path):\n",
    "    with Image.open(input_path) as img:\n",
    "        img.save(output_path, 'webp')"
   ]
  },
  {
   "cell_type": "code",
   "execution_count": 28,
   "metadata": {},
   "outputs": [],
   "source": [
    "for root, dirs, files in os.walk(input_dir):\n",
    "    # Create the corresponding output directory\n",
    "    output_root = root.replace(input_dir, output_dir)\n",
    "    os.makedirs(output_root, exist_ok=True)\n",
    "    \n",
    "    for file in files:\n",
    "        # Define the input and output file paths\n",
    "        input_path = os.path.join(root, file)\n",
    "        output_path = os.path.join(output_root, file.replace('.png', '.webp').replace('.jpg', '.webp').replace('.jpeg', '.webp'))\n",
    "        \n",
    "        # Check if the file is an image (JPEG or PNG)\n",
    "        if file.lower().endswith(('jpg', 'jpeg', 'png')):\n",
    "            # Convert the image to WebP format and save it to the output directory\n",
    "            convert_to_webp(input_path, output_path)\n",
    "        else:\n",
    "            # Copy non-image files directly to the output directory\n",
    "            shutil.copy2(input_path, output_path)"
   ]
  },
  {
   "cell_type": "code",
   "execution_count": 25,
   "metadata": {},
   "outputs": [],
   "source": []
  }
 ],
 "metadata": {
  "kernelspec": {
   "display_name": "Python 3",
   "language": "python",
   "name": "python3"
  },
  "language_info": {
   "codemirror_mode": {
    "name": "ipython",
    "version": 3
   },
   "file_extension": ".py",
   "mimetype": "text/x-python",
   "name": "python",
   "nbconvert_exporter": "python",
   "pygments_lexer": "ipython3",
   "version": "3.10.4"
  },
  "orig_nbformat": 4
 },
 "nbformat": 4,
 "nbformat_minor": 2
}
